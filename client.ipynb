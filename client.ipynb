{
 "cells": [
  {
   "cell_type": "code",
   "execution_count": 32,
   "metadata": {},
   "outputs": [],
   "source": [
    "from rucio.client import Client\n",
    "import itertools\n",
    "\n",
    "import random\n",
    "import string"
   ]
  },
  {
   "cell_type": "code",
   "execution_count": 21,
   "metadata": {},
   "outputs": [
    {
     "ename": "RuntimeError",
     "evalue": "Could not load Rucio configuration file. Rucio looked in the following paths for a configuration file, in order:\n\t/opt/rucio/etc/rucio.cfg",
     "output_type": "error",
     "traceback": [
      "\u001b[0;31m---------------------------------------------------------------------------\u001b[0m",
      "\u001b[0;31mRuntimeError\u001b[0m                              Traceback (most recent call last)",
      "Cell \u001b[0;32mIn[21], line 1\u001b[0m\n\u001b[0;32m----> 1\u001b[0m client \u001b[38;5;241m=\u001b[39m \u001b[43mClient\u001b[49m\u001b[43m(\u001b[49m\u001b[43m)\u001b[49m\n",
      "File \u001b[0;32m~/.miniforge/envs/dev/lib/python3.12/site-packages/rucio/client/client.py:77\u001b[0m, in \u001b[0;36mClient.__init__\u001b[0;34m(self, **args)\u001b[0m\n\u001b[1;32m     63\u001b[0m \u001b[38;5;28;01mdef\u001b[39;00m \u001b[38;5;21m__init__\u001b[39m(\u001b[38;5;28mself\u001b[39m, \u001b[38;5;241m*\u001b[39m\u001b[38;5;241m*\u001b[39margs):\n\u001b[1;32m     64\u001b[0m \u001b[38;5;250m    \u001b[39m\u001b[38;5;124;03m\"\"\"\u001b[39;00m\n\u001b[1;32m     65\u001b[0m \u001b[38;5;124;03m    Constructor for the Rucio main client class.\u001b[39;00m\n\u001b[1;32m     66\u001b[0m \n\u001b[0;32m   (...)\u001b[0m\n\u001b[1;32m     75\u001b[0m \u001b[38;5;124;03m    :param logger: Logger instance to use (optional)\u001b[39;00m\n\u001b[1;32m     76\u001b[0m \u001b[38;5;124;03m    \"\"\"\u001b[39;00m\n\u001b[0;32m---> 77\u001b[0m     \u001b[38;5;28;43msuper\u001b[39;49m\u001b[43m(\u001b[49m\u001b[43mClient\u001b[49m\u001b[43m,\u001b[49m\u001b[43m \u001b[49m\u001b[38;5;28;43mself\u001b[39;49m\u001b[43m)\u001b[49m\u001b[38;5;241;43m.\u001b[39;49m\u001b[38;5;21;43m__init__\u001b[39;49m\u001b[43m(\u001b[49m\u001b[38;5;241;43m*\u001b[39;49m\u001b[38;5;241;43m*\u001b[39;49m\u001b[43margs\u001b[49m\u001b[43m)\u001b[49m\n",
      "File \u001b[0;32m~/.miniforge/envs/dev/lib/python3.12/site-packages/rucio/client/baseclient.py:111\u001b[0m, in \u001b[0;36mBaseClient.__init__\u001b[0;34m(self, rucio_host, auth_host, account, ca_cert, auth_type, creds, timeout, user_agent, vo, logger)\u001b[0m\n\u001b[1;32m    109\u001b[0m \u001b[38;5;28;01mtry\u001b[39;00m:\n\u001b[1;32m    110\u001b[0m     \u001b[38;5;28;01mif\u001b[39;00m \u001b[38;5;28mself\u001b[39m\u001b[38;5;241m.\u001b[39mhost \u001b[38;5;129;01mis\u001b[39;00m \u001b[38;5;28;01mNone\u001b[39;00m:\n\u001b[0;32m--> 111\u001b[0m         \u001b[38;5;28mself\u001b[39m\u001b[38;5;241m.\u001b[39mhost \u001b[38;5;241m=\u001b[39m \u001b[43mconfig_get\u001b[49m\u001b[43m(\u001b[49m\u001b[38;5;124;43m'\u001b[39;49m\u001b[38;5;124;43mclient\u001b[39;49m\u001b[38;5;124;43m'\u001b[39;49m\u001b[43m,\u001b[49m\u001b[43m \u001b[49m\u001b[38;5;124;43m'\u001b[39;49m\u001b[38;5;124;43mrucio_host\u001b[39;49m\u001b[38;5;124;43m'\u001b[39;49m\u001b[43m)\u001b[49m\n\u001b[1;32m    112\u001b[0m     \u001b[38;5;28;01mif\u001b[39;00m \u001b[38;5;28mself\u001b[39m\u001b[38;5;241m.\u001b[39mauth_host \u001b[38;5;129;01mis\u001b[39;00m \u001b[38;5;28;01mNone\u001b[39;00m:\n\u001b[1;32m    113\u001b[0m         \u001b[38;5;28mself\u001b[39m\u001b[38;5;241m.\u001b[39mauth_host \u001b[38;5;241m=\u001b[39m config_get(\u001b[38;5;124m'\u001b[39m\u001b[38;5;124mclient\u001b[39m\u001b[38;5;124m'\u001b[39m, \u001b[38;5;124m'\u001b[39m\u001b[38;5;124mauth_host\u001b[39m\u001b[38;5;124m'\u001b[39m)\n",
      "File \u001b[0;32m~/.miniforge/envs/dev/lib/python3.12/site-packages/rucio/common/config.py:213\u001b[0m, in \u001b[0;36mconfig_get\u001b[0;34m(section, option, raise_exception, default, clean_cached, check_config_table, session, use_cache, expiration_time, convert_type_fnc)\u001b[0m\n\u001b[1;32m    211\u001b[0m \u001b[38;5;28;01melse\u001b[39;00m:\n\u001b[1;32m    212\u001b[0m     \u001b[38;5;28;01mif\u001b[39;00m raise_exception \u001b[38;5;129;01mand\u001b[39;00m default \u001b[38;5;129;01mis\u001b[39;00m \u001b[38;5;28;01mNone\u001b[39;00m:\n\u001b[0;32m--> 213\u001b[0m         \u001b[38;5;28;01mraise\u001b[39;00m err\n\u001b[1;32m    214\u001b[0m     \u001b[38;5;28;01mif\u001b[39;00m clean_cached:\n\u001b[1;32m    215\u001b[0m         clean_cached_config()\n",
      "File \u001b[0;32m~/.miniforge/envs/dev/lib/python3.12/site-packages/rucio/common/config.py:191\u001b[0m, in \u001b[0;36mconfig_get\u001b[0;34m(section, option, raise_exception, default, clean_cached, check_config_table, session, use_cache, expiration_time, convert_type_fnc)\u001b[0m\n\u001b[1;32m    164\u001b[0m \u001b[38;5;250m\u001b[39m\u001b[38;5;124;03m\"\"\"\u001b[39;00m\n\u001b[1;32m    165\u001b[0m \u001b[38;5;124;03mReturn the string value for a given option in a section\u001b[39;00m\n\u001b[1;32m    166\u001b[0m \n\u001b[0;32m   (...)\u001b[0m\n\u001b[1;32m    188\u001b[0m \u001b[38;5;124;03m:raises RuntimeError\u001b[39;00m\n\u001b[1;32m    189\u001b[0m \u001b[38;5;124;03m\"\"\"\u001b[39;00m\n\u001b[1;32m    190\u001b[0m \u001b[38;5;28;01mtry\u001b[39;00m:\n\u001b[0;32m--> 191\u001b[0m     \u001b[38;5;28;01mreturn\u001b[39;00m convert_type_fnc(\u001b[43mget_config\u001b[49m\u001b[43m(\u001b[49m\u001b[43m)\u001b[49m\u001b[38;5;241m.\u001b[39mget(section, option))\n\u001b[1;32m    192\u001b[0m \u001b[38;5;28;01mexcept\u001b[39;00m (configparser\u001b[38;5;241m.\u001b[39mNoOptionError, configparser\u001b[38;5;241m.\u001b[39mNoSectionError, \u001b[38;5;167;01mRuntimeError\u001b[39;00m) \u001b[38;5;28;01mas\u001b[39;00m err:\n\u001b[1;32m    193\u001b[0m     \u001b[38;5;28;01mtry\u001b[39;00m:\n",
      "File \u001b[0;32m~/.miniforge/envs/dev/lib/python3.12/site-packages/rucio/common/config.py:765\u001b[0m, in \u001b[0;36mget_config\u001b[0;34m()\u001b[0m\n\u001b[1;32m    763\u001b[0m \u001b[38;5;28;01mglobal\u001b[39;00m __CONFIG\n\u001b[1;32m    764\u001b[0m \u001b[38;5;28;01mif\u001b[39;00m __CONFIG \u001b[38;5;129;01mis\u001b[39;00m \u001b[38;5;28;01mNone\u001b[39;00m:\n\u001b[0;32m--> 765\u001b[0m     __CONFIG \u001b[38;5;241m=\u001b[39m \u001b[43mConfig\u001b[49m\u001b[43m(\u001b[49m\u001b[43m)\u001b[49m\n\u001b[1;32m    766\u001b[0m \u001b[38;5;28;01mreturn\u001b[39;00m __CONFIG\u001b[38;5;241m.\u001b[39mparser\n",
      "File \u001b[0;32m~/.miniforge/envs/dev/lib/python3.12/site-packages/rucio/common/config.py:789\u001b[0m, in \u001b[0;36mConfig.__init__\u001b[0;34m(self)\u001b[0m\n\u001b[1;32m    787\u001b[0m     \u001b[38;5;28mself\u001b[39m\u001b[38;5;241m.\u001b[39mconfigfile \u001b[38;5;241m=\u001b[39m \u001b[38;5;28mnext\u001b[39m(\u001b[38;5;28miter\u001b[39m(\u001b[38;5;28mfilter\u001b[39m(os\u001b[38;5;241m.\u001b[39mpath\u001b[38;5;241m.\u001b[39mexists, configs)), \u001b[38;5;28;01mNone\u001b[39;00m)\n\u001b[1;32m    788\u001b[0m     \u001b[38;5;28;01mif\u001b[39;00m \u001b[38;5;28mself\u001b[39m\u001b[38;5;241m.\u001b[39mconfigfile \u001b[38;5;129;01mis\u001b[39;00m \u001b[38;5;28;01mNone\u001b[39;00m:\n\u001b[0;32m--> 789\u001b[0m         \u001b[38;5;28;01mraise\u001b[39;00m \u001b[38;5;167;01mRuntimeError\u001b[39;00m(\u001b[38;5;124m'\u001b[39m\u001b[38;5;124mCould not load Rucio configuration file. \u001b[39m\u001b[38;5;124m'\u001b[39m\n\u001b[1;32m    790\u001b[0m                            \u001b[38;5;124m'\u001b[39m\u001b[38;5;124mRucio looked in the following paths for a configuration file, in order:\u001b[39m\u001b[38;5;124m'\u001b[39m\n\u001b[1;32m    791\u001b[0m                            \u001b[38;5;124m'\u001b[39m\u001b[38;5;130;01m\\n\u001b[39;00m\u001b[38;5;130;01m\\t\u001b[39;00m\u001b[38;5;124m'\u001b[39m \u001b[38;5;241m+\u001b[39m \u001b[38;5;124m'\u001b[39m\u001b[38;5;130;01m\\n\u001b[39;00m\u001b[38;5;130;01m\\t\u001b[39;00m\u001b[38;5;124m'\u001b[39m\u001b[38;5;241m.\u001b[39mjoin(configs))\n\u001b[1;32m    793\u001b[0m \u001b[38;5;28;01mif\u001b[39;00m \u001b[38;5;129;01mnot\u001b[39;00m \u001b[38;5;28mself\u001b[39m\u001b[38;5;241m.\u001b[39mparser\u001b[38;5;241m.\u001b[39mread(\u001b[38;5;28mself\u001b[39m\u001b[38;5;241m.\u001b[39mconfigfile) \u001b[38;5;241m==\u001b[39m [\u001b[38;5;28mself\u001b[39m\u001b[38;5;241m.\u001b[39mconfigfile]:\n\u001b[1;32m    794\u001b[0m     \u001b[38;5;28;01mraise\u001b[39;00m \u001b[38;5;167;01mRuntimeError\u001b[39;00m(\u001b[38;5;124m'\u001b[39m\u001b[38;5;124mCould not load Rucio configuration file. \u001b[39m\u001b[38;5;124m'\u001b[39m\n\u001b[1;32m    795\u001b[0m                        \u001b[38;5;124m'\u001b[39m\u001b[38;5;124mRucio tried loading the following configuration file:\u001b[39m\u001b[38;5;124m'\u001b[39m\n\u001b[1;32m    796\u001b[0m                        \u001b[38;5;124m'\u001b[39m\u001b[38;5;130;01m\\n\u001b[39;00m\u001b[38;5;130;01m\\t\u001b[39;00m\u001b[38;5;124m'\u001b[39m \u001b[38;5;241m+\u001b[39m \u001b[38;5;28mself\u001b[39m\u001b[38;5;241m.\u001b[39mconfigfile)\n",
      "\u001b[0;31mRuntimeError\u001b[0m: Could not load Rucio configuration file. Rucio looked in the following paths for a configuration file, in order:\n\t/opt/rucio/etc/rucio.cfg"
     ]
    }
   ],
   "source": [
    "client = Client()"
   ]
  },
  {
   "cell_type": "markdown",
   "metadata": {},
   "source": [
    "# Initialize RSE"
   ]
  },
  {
   "cell_type": "code",
   "execution_count": 9,
   "metadata": {},
   "outputs": [],
   "source": [
    "sites = {\n",
    "    \"T2_US_SDSC\": {\n",
    "        \"hostname\": \"xrootd-sense-ucsd-redirector-111.sdsc.optiputer.net\",\n",
    "        \"scheme\": \"davs\",\n",
    "        \"port\": 1094,\n",
    "        \"prefix\": \"//store/temp\"\n",
    "        # \"prefix\": \"//\"\n",
    "    },\n",
    "    \"T2_US_Caltech_Test\": {\n",
    "        \"hostname\": \"sense-redir-01.ultralight.org\",\n",
    "        \"scheme\": \"davs\",\n",
    "        \"port\": 1094,\n",
    "        \"prefix\": \"//store/temp\"\n",
    "        # \"prefix\": \"//store/data\" \n",
    "    },\n",
    "    \"T1_US_FNAL\": {\n",
    "        \"hostname\": \"cmssense4-origin-2841-1.fnal.gov\",\n",
    "        \"scheme\": \"davs\",\n",
    "        \"port\": 2880,\n",
    "        \"prefix\": \"//dcache/store/temp\"\n",
    "    },\n",
    "    \"T2_US_Caltech\": {\n",
    "        \"hostname\": \"redir-01.t2-sense.ultralight.org\",\n",
    "        \"scheme\": \"davs\",\n",
    "        \"port\": 1094,\n",
    "        \"prefix\": \"//store/temp\"\n",
    "    },\n",
    "    \"T2_US_Nebraska_Test\": {\n",
    "        \"hostname\": \"red-sense-dtn1.unl.edu\",\n",
    "        \"scheme\": \"davs\",\n",
    "        \"port\": 1094,\n",
    "        \"prefix\": \"//\"\n",
    "    },\n",
    "}"
   ]
  },
  {
   "cell_type": "code",
   "execution_count": 10,
   "metadata": {},
   "outputs": [
    {
     "ename": "NameError",
     "evalue": "name 'client' is not defined",
     "output_type": "error",
     "traceback": [
      "\u001b[0;31m---------------------------------------------------------------------------\u001b[0m",
      "\u001b[0;31mNameError\u001b[0m                                 Traceback (most recent call last)",
      "Cell \u001b[0;32mIn[10], line 19\u001b[0m\n\u001b[1;32m      2\u001b[0m     site\u001b[38;5;241m.\u001b[39mupdate({\u001b[38;5;124m\"\u001b[39m\u001b[38;5;124mimpl\u001b[39m\u001b[38;5;124m\"\u001b[39m: \u001b[38;5;124m\"\u001b[39m\u001b[38;5;124mrucio.rse.protocols.gfal.Default\u001b[39m\u001b[38;5;124m\"\u001b[39m,\n\u001b[1;32m      3\u001b[0m                 \u001b[38;5;124m\"\u001b[39m\u001b[38;5;124mdomains\u001b[39m\u001b[38;5;124m\"\u001b[39m: {\n\u001b[1;32m      4\u001b[0m                     \u001b[38;5;124m\"\u001b[39m\u001b[38;5;124mlan\u001b[39m\u001b[38;5;124m\"\u001b[39m: {\n\u001b[0;32m   (...)\u001b[0m\n\u001b[1;32m     15\u001b[0m                     }\n\u001b[1;32m     16\u001b[0m                 }})\n\u001b[1;32m     18\u001b[0m \u001b[38;5;28;01mfor\u001b[39;00m site, site_info \u001b[38;5;129;01min\u001b[39;00m sites\u001b[38;5;241m.\u001b[39mitems():\n\u001b[0;32m---> 19\u001b[0m     \u001b[43mclient\u001b[49m\u001b[38;5;241m.\u001b[39madd_rse(site)\n\u001b[1;32m     20\u001b[0m     client\u001b[38;5;241m.\u001b[39madd_protocol(site, site_info)\n\u001b[1;32m     21\u001b[0m     client\u001b[38;5;241m.\u001b[39mset_local_account_limit(\u001b[38;5;124m\"\u001b[39m\u001b[38;5;124mroot\u001b[39m\u001b[38;5;124m\"\u001b[39m, site, \u001b[38;5;124m\"\u001b[39m\u001b[38;5;124m-1\u001b[39m\u001b[38;5;124m\"\u001b[39m)\n",
      "\u001b[0;31mNameError\u001b[0m: name 'client' is not defined"
     ]
    }
   ],
   "source": [
    "for site in sites.values():\n",
    "    site.update({\"impl\": \"rucio.rse.protocols.gfal.Default\",\n",
    "                \"domains\": {\n",
    "                    \"lan\": {\n",
    "                        \"read\": 1,\n",
    "                        \"write\": 1,\n",
    "                        \"delete\": 1\n",
    "                    },\n",
    "                    \"wan\": {\n",
    "                        \"read\": 1,\n",
    "                        \"write\": 1,\n",
    "                        \"delete\": 1,\n",
    "                        \"third_party_copy_read\": 1,\n",
    "                        \"third_party_copy_write\": 1\n",
    "                    }\n",
    "                }})\n",
    "\n",
    "for site, site_info in sites.items():\n",
    "    client.add_rse(site)\n",
    "    client.add_protocol(site, site_info)\n",
    "    client.set_local_account_limit(\"root\", site, \"-1\")\n",
    "    client.add_rse_attribute(site, \"fts\", \"https://fts3-pilot.cern.ch:8446\")\n",
    "    client.add_rse_attribute(site, \"lfn2pfn_algorithm\", \"cmstfc\")\n",
    "    client.add_rse_attribute(site, \"verify_checksum\", \"false\")\n",
    "\n",
    "iterator = itertools.combinations(sites.keys(), 2)\n",
    "for src, dst in iterator:\n",
    "    client.add_distance(src, dst, {\"ranking\": 1, \"distance\": 1})\n",
    "    client.add_distance(dst, src, {\"ranking\": 1, \"distance\": 1})\n",
    "\n",
    "client.add_scope(\"root\", \"cms\")"
   ]
  },
  {
   "cell_type": "markdown",
   "metadata": {},
   "source": [
    "# Add Rule"
   ]
  },
  {
   "cell_type": "code",
   "execution_count": 29,
   "metadata": {},
   "outputs": [],
   "source": [
    "PRIORITY = 5\n",
    "DATASET = \"65000,66000\"\n",
    "NUM_FILES_PER_DATASET = 1000\n",
    "SOURCE = \"T2_US_SDSC\"\n",
    "DESTINATION = \"T2_US_Caltech\""
   ]
  },
  {
   "cell_type": "code",
   "execution_count": 31,
   "metadata": {},
   "outputs": [
    {
     "ename": "NameError",
     "evalue": "name 'client' is not defined",
     "output_type": "error",
     "traceback": [
      "\u001b[0;31m---------------------------------------------------------------------------\u001b[0m",
      "\u001b[0;31mNameError\u001b[0m                                 Traceback (most recent call last)",
      "Cell \u001b[0;32mIn[31], line 11\u001b[0m\n\u001b[1;32m      8\u001b[0m dids \u001b[38;5;241m=\u001b[39m [{\u001b[38;5;124m\"\u001b[39m\u001b[38;5;124mscope\u001b[39m\u001b[38;5;124m\"\u001b[39m: \u001b[38;5;124m\"\u001b[39m\u001b[38;5;124mcms\u001b[39m\u001b[38;5;124m\"\u001b[39m, \u001b[38;5;124m\"\u001b[39m\u001b[38;5;124mname\u001b[39m\u001b[38;5;124m\"\u001b[39m: f} \u001b[38;5;28;01mfor\u001b[39;00m f \u001b[38;5;129;01min\u001b[39;00m files]\n\u001b[1;32m      9\u001b[0m dids_w_bytes \u001b[38;5;241m=\u001b[39m [{\u001b[38;5;124m\"\u001b[39m\u001b[38;5;124mscope\u001b[39m\u001b[38;5;124m\"\u001b[39m: \u001b[38;5;124m\"\u001b[39m\u001b[38;5;124mcms\u001b[39m\u001b[38;5;124m\"\u001b[39m, \u001b[38;5;124m\"\u001b[39m\u001b[38;5;124mname\u001b[39m\u001b[38;5;124m\"\u001b[39m: f, \u001b[38;5;124m\"\u001b[39m\u001b[38;5;124mbytes\u001b[39m\u001b[38;5;124m\"\u001b[39m: \u001b[38;5;241m4294967296\u001b[39m} \u001b[38;5;28;01mfor\u001b[39;00m f \u001b[38;5;129;01min\u001b[39;00m files]\n\u001b[0;32m---> 11\u001b[0m \u001b[43mclient\u001b[49m\u001b[38;5;241m.\u001b[39madd_replicas(SOURCE, dids_w_bytes)\n\u001b[1;32m     13\u001b[0m client\u001b[38;5;241m.\u001b[39madd_dataset(\u001b[38;5;124m\"\u001b[39m\u001b[38;5;124mcms\u001b[39m\u001b[38;5;124m\"\u001b[39m, \u001b[38;5;124mf\u001b[39m\u001b[38;5;124m\"\u001b[39m\u001b[38;5;124m/SenseTest/Run2022-03Jan2023/MYDATA#\u001b[39m\u001b[38;5;132;01m{\u001b[39;00mdataset\u001b[38;5;132;01m}\u001b[39;00m\u001b[38;5;124m\"\u001b[39m)\n\u001b[1;32m     15\u001b[0m client\u001b[38;5;241m.\u001b[39madd_files_to_datasets([{\u001b[38;5;124m\"\u001b[39m\u001b[38;5;124mscope\u001b[39m\u001b[38;5;124m\"\u001b[39m: \u001b[38;5;124m\"\u001b[39m\u001b[38;5;124mcms\u001b[39m\u001b[38;5;124m\"\u001b[39m, \u001b[38;5;124m\"\u001b[39m\u001b[38;5;124mname\u001b[39m\u001b[38;5;124m\"\u001b[39m: \u001b[38;5;124mf\u001b[39m\u001b[38;5;124m\"\u001b[39m\u001b[38;5;124m/SenseTest/Run2022-03Jan2023/MYDATA#\u001b[39m\u001b[38;5;132;01m{\u001b[39;00mdataset\u001b[38;5;132;01m}\u001b[39;00m\u001b[38;5;124m\"\u001b[39m, \u001b[38;5;124m\"\u001b[39m\u001b[38;5;124mdids\u001b[39m\u001b[38;5;124m\"\u001b[39m: dids}])\n",
      "\u001b[0;31mNameError\u001b[0m: name 'client' is not defined"
     ]
    }
   ],
   "source": [
    "container_suffix = ''.join(random.choices(string.ascii_uppercase, k=4))\n",
    "\n",
    "datasets = DATASET.split(\",\")\n",
    "\n",
    "for dataset in range(int(datasets[0]), int(datasets[1])+1000, 1000):\n",
    "    files = [f\"/store/data/Run2018A/EGamma/MINIAOD/UL2018_MiniAODv2-v1/{dataset}/testSourceFile{j}.root\" for j in range(NUM_FILES_PER_DATASET)]\n",
    "\n",
    "    dids = [{\"scope\": \"cms\", \"name\": f} for f in files]\n",
    "    dids_w_bytes = [{\"scope\": \"cms\", \"name\": f, \"bytes\": 4294967296} for f in files]\n",
    "\n",
    "    client.add_replicas(SOURCE, dids_w_bytes)\n",
    "\n",
    "    client.add_dataset(\"cms\", f\"/SenseTest/Run2022-03Jan2023/MYDATA#{dataset}\")\n",
    "\n",
    "    client.add_files_to_datasets([{\"scope\": \"cms\", \"name\": f\"/SenseTest/Run2022-03Jan2023/MYDATA#{dataset}\", \"dids\": dids}])\n",
    "\n",
    "client.add_container(\"cms\", f\"/SenseTest/Run3/{container_suffix}\")\n",
    "\n",
    "datasets_for_containers = [{\"scope\": \"cms\", \"name\": f\"/SenseTest/Run2022-03Jan2023/MYDATA#{dataset}\"} for dataset in range(int(datasets[0]), int(datasets[1])+1000, 1000)]\n",
    "client.add_datasets_to_containers([{\"scope\": \"cms\", \"name\": f\"/SenseTest/Run3/{container_suffix}\", \"dids\": datasets_for_containers}])\n",
    "\n",
    "rule = client.add_replication_rule(dids=[{\"scope\": \"cms\", \"name\": f\"/SenseTest/Run3/{container_suffix}\"}],\n",
    "    copies=1,\n",
    "    meta=\"sense\",\n",
    "    rse_expression=DESTINATION,\n",
    "    priority=PRIORITY,\n",
    "    source_replica_expression=SOURCE)"
   ]
  }
 ],
 "metadata": {
  "kernelspec": {
   "display_name": "dev",
   "language": "python",
   "name": "python3"
  },
  "language_info": {
   "codemirror_mode": {
    "name": "ipython",
    "version": 3
   },
   "file_extension": ".py",
   "mimetype": "text/x-python",
   "name": "python",
   "nbconvert_exporter": "python",
   "pygments_lexer": "ipython3",
   "version": "3.12.0"
  }
 },
 "nbformat": 4,
 "nbformat_minor": 2
}
