{
 "cells": [
  {
   "cell_type": "code",
   "execution_count": 1,
   "metadata": {},
   "outputs": [],
   "source": [
    "from rucio.client import Client\n",
    "import itertools\n",
    "from tqdm import tqdm\n",
    "\n",
    "import random\n",
    "import string"
   ]
  },
  {
   "cell_type": "code",
   "execution_count": 2,
   "metadata": {},
   "outputs": [
    {
     "data": {
      "text/plain": [
       "{'account': 'root',\n",
       " 'account_type': 'SERVICE',\n",
       " 'status': 'ACTIVE',\n",
       " 'deleted_at': None,\n",
       " 'updated_at': '2024-11-11T18:21:21',\n",
       " 'email': None,\n",
       " 'suspended_at': None,\n",
       " 'created_at': '2024-11-11T18:21:21'}"
      ]
     },
     "execution_count": 2,
     "metadata": {},
     "output_type": "execute_result"
    }
   ],
   "source": [
    "client = Client()\n",
    "client.whoami()"
   ]
  },
  {
   "cell_type": "markdown",
   "metadata": {},
   "source": [
    "# Initialize RSE"
   ]
  },
  {
   "cell_type": "code",
   "execution_count": 3,
   "metadata": {},
   "outputs": [],
   "source": [
    "sites = {\n",
    "    \"T2_US_SDSC\": {\n",
    "        \"hostname\": \"xrootd-sense-ucsd-redirector-111.sdsc.optiputer.net\",\n",
    "        \"scheme\": \"davs\",\n",
    "        \"port\": 1094,\n",
    "        \"prefix\": \"//temp\"\n",
    "        # \"prefix\": \"//\"\n",
    "    },\n",
    "    \"T2_US_Caltech\": {\n",
    "        \"hostname\": \"redir-01.t2-sense.ultralight.org\",\n",
    "        \"scheme\": \"davs\",\n",
    "        \"port\": 1094,\n",
    "        \"prefix\": \"//\"\n",
    "        # \"prefix\": \"//store/temp\"\n",
    "    },\n",
    "    \"T2_US_Caltech_Test\": {\n",
    "        \"hostname\": \"sense-redir-01.ultralight.org\",\n",
    "        \"scheme\": \"davs\",\n",
    "        \"port\": 1094,\n",
    "        \"prefix\": \"//\" \n",
    "    },\n",
    "    \"T1_US_FNAL\": {\n",
    "        \"hostname\": \"cmssense2-origin-2841-1.fnal.gov\",\n",
    "        \"scheme\": \"davs\",\n",
    "        \"port\": 2880,\n",
    "        \"prefix\": \"//dcache/store/temp\"\n",
    "    },\n",
    "    \"T2_US_Nebraska_Test\": {\n",
    "        \"hostname\": \"red-sense-dtn1.unl.edu\",\n",
    "        \"scheme\": \"davs\",\n",
    "        \"port\": 1094,\n",
    "        \"prefix\": \"//\"\n",
    "    },\n",
    "}"
   ]
  },
  {
   "cell_type": "code",
   "execution_count": 4,
   "metadata": {},
   "outputs": [
    {
     "data": {
      "text/plain": [
       "True"
      ]
     },
     "execution_count": 4,
     "metadata": {},
     "output_type": "execute_result"
    }
   ],
   "source": [
    "for site in sites.values():\n",
    "    site.update({\"impl\": \"rucio.rse.protocols.gfal.Default\",\n",
    "                \"domains\": {\n",
    "                    \"lan\": {\n",
    "                        \"read\": 1,\n",
    "                        \"write\": 1,\n",
    "                        \"delete\": 1\n",
    "                    },\n",
    "                    \"wan\": {\n",
    "                        \"read\": 1,\n",
    "                        \"write\": 1,\n",
    "                        \"delete\": 1,\n",
    "                        \"third_party_copy_read\": 1,\n",
    "                        \"third_party_copy_write\": 1\n",
    "                    }\n",
    "                }})\n",
    "\n",
    "for site, site_info in sites.items():\n",
    "    client.add_rse(site)\n",
    "    client.add_protocol(site, site_info)\n",
    "    client.set_local_account_limit(\"root\", site, \"-1\")\n",
    "    client.add_rse_attribute(site, \"fts\", \"https://cmsftssrv3.fnal.gov:8446\")\n",
    "    # client.add_rse_attribute(site, \"fts\", \"https://fts3-pilot.cern.ch:8446\")\n",
    "    client.add_rse_attribute(site, \"lfn2pfn_algorithm\", \"cmstfc\")\n",
    "    client.add_rse_attribute(site, \"verify_checksum\", \"false\")\n",
    "\n",
    "iterator = itertools.combinations(sites.keys(), 2)\n",
    "for src, dst in iterator:\n",
    "    client.add_distance(src, dst, {\"ranking\": 1, \"distance\": 1})\n",
    "    client.add_distance(dst, src, {\"ranking\": 1, \"distance\": 1})\n",
    "\n",
    "client.add_scope(\"root\", \"cms\")"
   ]
  },
  {
   "cell_type": "code",
   "execution_count": 5,
   "metadata": {},
   "outputs": [
    {
     "name": "stdout",
     "output_type": "stream",
     "text": [
      "RSEs: ['T2_US_SDSC', 'T2_US_Caltech', 'T2_US_Caltech_Test', 'T1_US_FNAL', 'T2_US_Nebraska_Test']\n"
     ]
    }
   ],
   "source": [
    "print(f\"RSEs: {[i['rse'] for i in client.list_rses()]}\")"
   ]
  },
  {
   "cell_type": "markdown",
   "metadata": {},
   "source": [
    "# Add Rule"
   ]
  },
  {
   "cell_type": "code",
   "execution_count": 6,
   "metadata": {},
   "outputs": [],
   "source": [
    "PRIORITY = 5\n",
    "\n",
    "# 65000-105000 at SDSC, 170000-180000 at Caltech, 105000-115000 at Caltech_Test, 50000-63000 at FNAL\n",
    "\n",
    "# DATASET = \"65000,74000\" # SOURCE SDSC\n",
    "# DATASET = \"170000,180000\" # SOURCE Caltech\n",
    "DATASET = \"50000,59000\" # SOURCE FNAL\n",
    "\n",
    "NUM_FILES_PER_DATASET = 1000\n",
    "\n",
    "# SOURCE = \"T2_US_Caltech\"\n",
    "# SOURCE = \"T2_US_SDSC\"\n",
    "SOURCE = \"T1_US_FNAL\"\n",
    "\n",
    "DESTINATION = \"T2_US_SDSC\"\n",
    "# DESTINATION = \"T2_US_Caltech\""
   ]
  },
  {
   "cell_type": "code",
   "execution_count": 7,
   "metadata": {},
   "outputs": [
    {
     "name": "stdout",
     "output_type": "stream",
     "text": [
      "Adding files to datasets\n"
     ]
    },
    {
     "name": "stderr",
     "output_type": "stream",
     "text": [
      "  0%|          | 0/10 [00:00<?, ?it/s]"
     ]
    },
    {
     "name": "stderr",
     "output_type": "stream",
     "text": [
      "100%|██████████| 10/10 [00:38<00:00,  3.89s/it]\n"
     ]
    },
    {
     "name": "stdout",
     "output_type": "stream",
     "text": [
      "Adding datasets to container\n"
     ]
    },
    {
     "data": {
      "text/plain": [
       "True"
      ]
     },
     "execution_count": 7,
     "metadata": {},
     "output_type": "execute_result"
    }
   ],
   "source": [
    "container_suffix = ''.join(random.choices(string.ascii_uppercase, k=4))\n",
    "dataset_start, dataset_end = int(DATASET.split(\",\")[0]), int(DATASET.split(\",\")[1])+1000\n",
    "\n",
    "print(\"Adding files to datasets\")\n",
    "datasets_for_containers = []\n",
    "for dataset in tqdm(range(dataset_start, dataset_end, 1000)):\n",
    "    files = [f\"/store/data/Run2018A/EGamma/MINIAOD/UL2018_MiniAODv2-v1/{dataset}/testSourceFile{j}.root\" for j in range(NUM_FILES_PER_DATASET) if (j % 2 == 0) or (j % 4 == 1)]\n",
    "    dids = [{\"scope\": \"cms\", \"name\": f} for f in files]\n",
    "    dids_w_bytes = [{\"scope\": \"cms\", \"name\": f, \"bytes\": 4294967296} for f in files]\n",
    "    client.add_replicas(SOURCE, dids_w_bytes)\n",
    "    client.add_dataset(\"cms\", f\"/SenseTest/Run2022-03Jan2023/MYDATA#{dataset}\")\n",
    "    client.add_files_to_datasets([{\"scope\": \"cms\", \"name\": f\"/SenseTest/Run2022-03Jan2023/MYDATA#{dataset}\", \"dids\": dids}])\n",
    "\n",
    "    datasets_for_containers.append({\"scope\": \"cms\", \"name\": f\"/SenseTest/Run2022-03Jan2023/MYDATA#{dataset}\"})\n",
    "\n",
    "random.shuffle(datasets_for_containers)\n",
    "\n",
    "print(\"Adding datasets to container\")\n",
    "client.add_container(\"cms\", f\"/SenseTest/Run3/{container_suffix}\")\n",
    "client.add_datasets_to_containers([{\"scope\": \"cms\", \"name\": f\"/SenseTest/Run3/{container_suffix}\", \"dids\": datasets_for_containers}])"
   ]
  },
  {
   "cell_type": "code",
   "execution_count": 8,
   "metadata": {},
   "outputs": [
    {
     "name": "stdout",
     "output_type": "stream",
     "text": [
      "Adding replication rule\n"
     ]
    },
    {
     "name": "stdout",
     "output_type": "stream",
     "text": [
      "Rule ID: a805108b15954cbd99dadd8eea37c780\n"
     ]
    }
   ],
   "source": [
    "print(\"Adding replication rule\")\n",
    "rule = client.add_replication_rule(dids=[{\"scope\": \"cms\", \"name\": f\"/SenseTest/Run3/{container_suffix}\"}],\n",
    "    copies=1,\n",
    "    meta=\"sense\",\n",
    "    rse_expression=DESTINATION,\n",
    "    priority=PRIORITY,\n",
    "    source_replica_expression=SOURCE)\n",
    "\n",
    "print(\"Rule ID:\", rule[0])"
   ]
  },
  {
   "cell_type": "code",
   "execution_count": 9,
   "metadata": {},
   "outputs": [
    {
     "data": {
      "text/plain": [
       "[{'account': 'root',\n",
       "  'copies': 1,\n",
       "  'activity': 'User Subscriptions',\n",
       "  'priority': 5,\n",
       "  'updated_at': datetime.datetime(2024, 11, 11, 20, 3, 35),\n",
       "  'scope': 'cms',\n",
       "  'expires_at': None,\n",
       "  'grouping': 'DATASET',\n",
       "  'name': '/SenseTest/Run3/WUBP',\n",
       "  'weight': None,\n",
       "  'notification': 'NO',\n",
       "  'comments': None,\n",
       "  'did_type': 'CONTAINER',\n",
       "  'locked': False,\n",
       "  'stuck_at': None,\n",
       "  'child_rule_id': None,\n",
       "  'state': 'REPLICATING',\n",
       "  'locks_ok_cnt': 0,\n",
       "  'purge_replicas': False,\n",
       "  'eol_at': None,\n",
       "  'id': 'a805108b15954cbd99dadd8eea37c780',\n",
       "  'error': None,\n",
       "  'locks_replicating_cnt': 7500,\n",
       "  'ignore_availability': False,\n",
       "  'split_container': False,\n",
       "  'rse_expression': 'T2_US_SDSC',\n",
       "  'locks_stuck_cnt': 0,\n",
       "  'ignore_account_limit': False,\n",
       "  'meta': '\"sense\"',\n",
       "  'subscription_id': None,\n",
       "  'source_replica_expression': 'T1_US_FNAL',\n",
       "  'created_at': datetime.datetime(2024, 11, 11, 20, 3),\n",
       "  'bytes': None}]"
      ]
     },
     "execution_count": 9,
     "metadata": {},
     "output_type": "execute_result"
    }
   ],
   "source": [
    "[i for i in client.list_account_rules(\"root\")]"
   ]
  },
  {
   "cell_type": "code",
   "execution_count": null,
   "metadata": {},
   "outputs": [],
   "source": []
  }
 ],
 "metadata": {
  "kernelspec": {
   "display_name": "dev",
   "language": "python",
   "name": "python3"
  },
  "language_info": {
   "codemirror_mode": {
    "name": "ipython",
    "version": 3
   },
   "file_extension": ".py",
   "mimetype": "text/x-python",
   "name": "python",
   "nbconvert_exporter": "python",
   "pygments_lexer": "ipython3",
   "version": "3.12.0"
  }
 },
 "nbformat": 4,
 "nbformat_minor": 2
}
